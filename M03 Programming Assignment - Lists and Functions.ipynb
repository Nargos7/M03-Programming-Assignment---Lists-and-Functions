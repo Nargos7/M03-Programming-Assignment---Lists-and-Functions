{
 "cells": [
  {
   "cell_type": "code",
   "execution_count": 1,
   "id": "65c5e8e3",
   "metadata": {},
   "outputs": [
    {
     "name": "stdout",
     "output_type": "stream",
     "text": [
      "Nobel Prize Collected!\n",
      "['MOZZARELLA', 'Cinderella']\n"
     ]
    }
   ],
   "source": [
    "#Argyrios Benekos\n",
    "#7.4 Make a list called things with three elements.\n",
    "things = [\"mozzarella\", \"cinderella\", \"salmonella\"]\n",
    "\n",
    "#7.5 Capitalize the element that refers to a person\n",
    "things[1] = things[1].capitalize()\n",
    "\n",
    "#7.6 Make the cheesy element of things all uppercase and then print the list\n",
    "things[0] = things[0].upper()\n",
    "\n",
    "#7.7 Delete the disease element from things, collect your Nobel Prize, and print the list\n",
    "del things[2]\n",
    "\n",
    "# Collecting a Nobel Prize\n",
    "print('Nobel Prize Collected!')\n",
    "\n",
    "# Print the list\n",
    "print(things)"
   ]
  },
  {
   "cell_type": "code",
   "execution_count": 2,
   "id": "8d34b3f1",
   "metadata": {},
   "outputs": [],
   "source": [
    "#9.1 Define a function called good() that returns a list\n",
    "def good():\n",
    "    return  ['Harry', 'Ron', 'Hermione']"
   ]
  },
  {
   "cell_type": "code",
   "execution_count": 3,
   "id": "74dcaed3",
   "metadata": {},
   "outputs": [
    {
     "name": "stdout",
     "output_type": "stream",
     "text": [
      "5\n"
     ]
    }
   ],
   "source": [
    "#9.2 Define a generator function called get_odds() that returns the odd numbers from range(10).\n",
    "#Use a for loop to find and print the third value returned\n",
    "def get_odds():\n",
    "    return [number for number in range(10) if number % 2 != 0]\n",
    "\n",
    "third_odd = get_odds()[2]  # List elements starting at 0, so the third element is at index 2.\n",
    "print(third_odd)"
   ]
  },
  {
   "cell_type": "code",
   "execution_count": null,
   "id": "6d3ec968",
   "metadata": {},
   "outputs": [],
   "source": []
  }
 ],
 "metadata": {
  "kernelspec": {
   "display_name": "Python 3 (ipykernel)",
   "language": "python",
   "name": "python3"
  },
  "language_info": {
   "codemirror_mode": {
    "name": "ipython",
    "version": 3
   },
   "file_extension": ".py",
   "mimetype": "text/x-python",
   "name": "python",
   "nbconvert_exporter": "python",
   "pygments_lexer": "ipython3",
   "version": "3.11.5"
  }
 },
 "nbformat": 4,
 "nbformat_minor": 5
}
